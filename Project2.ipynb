{
 "cells": [
  {
   "cell_type": "markdown",
   "id": "d48b7262-9e26-4182-a542-73d7f99c23b0",
   "metadata": {},
   "source": [
    "# CSC6711 Project 2 - Exploring Rec Sys Data\n",
    "\n",
    "* **Author**: Jacob Buysse\n",
    "\n",
    "This notebook is an analysis of four datasets for recommendation systems (all files are located in the `datasets` subdirectory):\n",
    "* MovieLens - `movielens_25m.feather` (Movies)\n",
    "* Netflix Prize - `netflix_prize.feather` (Movies and TV Shows)\n",
    "* Yahoo! Music R2 - `yahoo_r2_songs.subsampled.feather` (Songs)\n",
    "* BoardGameGeek - `boardgamegeek.feather` (Board Games)\n",
    "\n",
    "We will be using the following libraries:"
   ]
  },
  {
   "cell_type": "code",
   "execution_count": 1,
   "id": "d44998c3-d42e-466d-9a2d-f407d883d0fd",
   "metadata": {},
   "outputs": [],
   "source": [
    "import numpy as np\n",
    "import pandas as pd\n",
    "import seaborn as sns\n",
    "import matplotlib\n",
    "import matplotlib.pyplot as plt"
   ]
  },
  {
   "cell_type": "markdown",
   "id": "8b6a7b05-7005-4c76-a8f8-070e29658366",
   "metadata": {},
   "source": [
    "Let us configure matplotlib for readable labels, high resolution, and automatic layout."
   ]
  },
  {
   "cell_type": "code",
   "execution_count": 2,
   "id": "bc81acea-2210-4bb0-b3dc-f6d3358e163f",
   "metadata": {},
   "outputs": [],
   "source": [
    "matplotlib.rc('axes', labelsize=16)\n",
    "matplotlib.rc('figure', dpi=150, autolayout=True)"
   ]
  },
  {
   "cell_type": "markdown",
   "id": "9812c3af-22e2-4058-8752-96735fce7212",
   "metadata": {},
   "source": [
    "## MovieLens Analysis\n",
    "\n",
    "Let us inspect the MoveLens dataset."
   ]
  },
  {
   "cell_type": "code",
   "execution_count": 4,
   "id": "ad242e29-bdcc-418a-a777-14b73fd1230a",
   "metadata": {},
   "outputs": [
    {
     "data": {
      "text/html": [
       "<div>\n",
       "<style scoped>\n",
       "    .dataframe tbody tr th:only-of-type {\n",
       "        vertical-align: middle;\n",
       "    }\n",
       "\n",
       "    .dataframe tbody tr th {\n",
       "        vertical-align: top;\n",
       "    }\n",
       "\n",
       "    .dataframe thead th {\n",
       "        text-align: right;\n",
       "    }\n",
       "</style>\n",
       "<table border=\"1\" class=\"dataframe\">\n",
       "  <thead>\n",
       "    <tr style=\"text-align: right;\">\n",
       "      <th></th>\n",
       "      <th>item_id</th>\n",
       "      <th>user_id</th>\n",
       "      <th>rating</th>\n",
       "    </tr>\n",
       "  </thead>\n",
       "  <tbody>\n",
       "    <tr>\n",
       "      <th>0</th>\n",
       "      <td>296</td>\n",
       "      <td>1</td>\n",
       "      <td>5.0</td>\n",
       "    </tr>\n",
       "    <tr>\n",
       "      <th>1</th>\n",
       "      <td>306</td>\n",
       "      <td>1</td>\n",
       "      <td>3.5</td>\n",
       "    </tr>\n",
       "    <tr>\n",
       "      <th>2</th>\n",
       "      <td>307</td>\n",
       "      <td>1</td>\n",
       "      <td>5.0</td>\n",
       "    </tr>\n",
       "    <tr>\n",
       "      <th>3</th>\n",
       "      <td>665</td>\n",
       "      <td>1</td>\n",
       "      <td>5.0</td>\n",
       "    </tr>\n",
       "    <tr>\n",
       "      <th>4</th>\n",
       "      <td>899</td>\n",
       "      <td>1</td>\n",
       "      <td>3.5</td>\n",
       "    </tr>\n",
       "    <tr>\n",
       "      <th>...</th>\n",
       "      <td>...</td>\n",
       "      <td>...</td>\n",
       "      <td>...</td>\n",
       "    </tr>\n",
       "    <tr>\n",
       "      <th>25000090</th>\n",
       "      <td>50872</td>\n",
       "      <td>162541</td>\n",
       "      <td>4.5</td>\n",
       "    </tr>\n",
       "    <tr>\n",
       "      <th>25000091</th>\n",
       "      <td>55768</td>\n",
       "      <td>162541</td>\n",
       "      <td>2.5</td>\n",
       "    </tr>\n",
       "    <tr>\n",
       "      <th>25000092</th>\n",
       "      <td>56176</td>\n",
       "      <td>162541</td>\n",
       "      <td>2.0</td>\n",
       "    </tr>\n",
       "    <tr>\n",
       "      <th>25000093</th>\n",
       "      <td>58559</td>\n",
       "      <td>162541</td>\n",
       "      <td>4.0</td>\n",
       "    </tr>\n",
       "    <tr>\n",
       "      <th>25000094</th>\n",
       "      <td>63876</td>\n",
       "      <td>162541</td>\n",
       "      <td>5.0</td>\n",
       "    </tr>\n",
       "  </tbody>\n",
       "</table>\n",
       "<p>24890583 rows × 3 columns</p>\n",
       "</div>"
      ],
      "text/plain": [
       "          item_id  user_id  rating\n",
       "0             296        1     5.0\n",
       "1             306        1     3.5\n",
       "2             307        1     5.0\n",
       "3             665        1     5.0\n",
       "4             899        1     3.5\n",
       "...           ...      ...     ...\n",
       "25000090    50872   162541     4.5\n",
       "25000091    55768   162541     2.5\n",
       "25000092    56176   162541     2.0\n",
       "25000093    58559   162541     4.0\n",
       "25000094    63876   162541     5.0\n",
       "\n",
       "[24890583 rows x 3 columns]"
      ]
     },
     "execution_count": 4,
     "metadata": {},
     "output_type": "execute_result"
    }
   ],
   "source": [
    "df1 = pd.read_feather('./datasets/movielens_25m.feather')\n",
    "df1"
   ]
  },
  {
   "cell_type": "code",
   "execution_count": 6,
   "id": "9b7a0867-c5c9-4b6f-b276-be63b7666ca7",
   "metadata": {},
   "outputs": [
    {
     "data": {
      "text/html": [
       "<div>\n",
       "<style scoped>\n",
       "    .dataframe tbody tr th:only-of-type {\n",
       "        vertical-align: middle;\n",
       "    }\n",
       "\n",
       "    .dataframe tbody tr th {\n",
       "        vertical-align: top;\n",
       "    }\n",
       "\n",
       "    .dataframe thead th {\n",
       "        text-align: right;\n",
       "    }\n",
       "</style>\n",
       "<table border=\"1\" class=\"dataframe\">\n",
       "  <thead>\n",
       "    <tr style=\"text-align: right;\">\n",
       "      <th></th>\n",
       "      <th>item_id</th>\n",
       "      <th>user_id</th>\n",
       "      <th>rating</th>\n",
       "    </tr>\n",
       "  </thead>\n",
       "  <tbody>\n",
       "    <tr>\n",
       "      <th>count</th>\n",
       "      <td>2.489058e+07</td>\n",
       "      <td>2.489058e+07</td>\n",
       "      <td>2.489058e+07</td>\n",
       "    </tr>\n",
       "    <tr>\n",
       "      <th>mean</th>\n",
       "      <td>2.083573e+04</td>\n",
       "      <td>8.120344e+04</td>\n",
       "      <td>3.536225e+00</td>\n",
       "    </tr>\n",
       "    <tr>\n",
       "      <th>std</th>\n",
       "      <td>3.828946e+04</td>\n",
       "      <td>4.680652e+04</td>\n",
       "      <td>1.059729e+00</td>\n",
       "    </tr>\n",
       "    <tr>\n",
       "      <th>min</th>\n",
       "      <td>1.000000e+00</td>\n",
       "      <td>1.000000e+00</td>\n",
       "      <td>5.000000e-01</td>\n",
       "    </tr>\n",
       "    <tr>\n",
       "      <th>25%</th>\n",
       "      <td>1.196000e+03</td>\n",
       "      <td>4.051000e+04</td>\n",
       "      <td>3.000000e+00</td>\n",
       "    </tr>\n",
       "    <tr>\n",
       "      <th>50%</th>\n",
       "      <td>2.918000e+03</td>\n",
       "      <td>8.094800e+04</td>\n",
       "      <td>3.500000e+00</td>\n",
       "    </tr>\n",
       "    <tr>\n",
       "      <th>75%</th>\n",
       "      <td>8.446000e+03</td>\n",
       "      <td>1.215920e+05</td>\n",
       "      <td>4.000000e+00</td>\n",
       "    </tr>\n",
       "    <tr>\n",
       "      <th>max</th>\n",
       "      <td>2.087370e+05</td>\n",
       "      <td>1.625410e+05</td>\n",
       "      <td>5.000000e+00</td>\n",
       "    </tr>\n",
       "  </tbody>\n",
       "</table>\n",
       "</div>"
      ],
      "text/plain": [
       "            item_id       user_id        rating\n",
       "count  2.489058e+07  2.489058e+07  2.489058e+07\n",
       "mean   2.083573e+04  8.120344e+04  3.536225e+00\n",
       "std    3.828946e+04  4.680652e+04  1.059729e+00\n",
       "min    1.000000e+00  1.000000e+00  5.000000e-01\n",
       "25%    1.196000e+03  4.051000e+04  3.000000e+00\n",
       "50%    2.918000e+03  8.094800e+04  3.500000e+00\n",
       "75%    8.446000e+03  1.215920e+05  4.000000e+00\n",
       "max    2.087370e+05  1.625410e+05  5.000000e+00"
      ]
     },
     "execution_count": 6,
     "metadata": {},
     "output_type": "execute_result"
    }
   ],
   "source": [
    "df1.describe()"
   ]
  },
  {
   "cell_type": "code",
   "execution_count": 7,
   "id": "fab419a2-a8e2-46db-8d07-fff820009a84",
   "metadata": {},
   "outputs": [
    {
     "name": "stdout",
     "output_type": "stream",
     "text": [
      "<class 'pandas.core.frame.DataFrame'>\n",
      "Index: 24890583 entries, 0 to 25000094\n",
      "Data columns (total 3 columns):\n",
      " #   Column   Dtype  \n",
      "---  ------   -----  \n",
      " 0   item_id  int64  \n",
      " 1   user_id  int64  \n",
      " 2   rating   float64\n",
      "dtypes: float64(1), int64(2)\n",
      "memory usage: 759.6 MB\n"
     ]
    }
   ],
   "source": [
    "df1.info()"
   ]
  },
  {
   "cell_type": "markdown",
   "id": "78ea19cc-8935-47c9-ab21-15e0a33de798",
   "metadata": {},
   "source": [
    "So we have 24.9M ratings by item_id/user_id.  Ratings are from 0.5 to 5 (so assuming a star rating system where you can't give a zero-rating and where every record has a rating - so no nulls).\n",
    "\n",
    "Let us see how many distinct items and users we have."
   ]
  },
  {
   "cell_type": "code",
   "execution_count": 10,
   "id": "455d5743-0229-4b14-b19b-0402f29b200e",
   "metadata": {},
   "outputs": [
    {
     "name": "stdout",
     "output_type": "stream",
     "text": [
      "24330 distinct item IDs\n",
      "162541 distinct user IDs\n"
     ]
    }
   ],
   "source": [
    "print(f\"{df1.item_id.nunique()} distinct item IDs\")\n",
    "print(f\"{df1.user_id.nunique()} distinct user IDs\")"
   ]
  },
  {
   "cell_type": "markdown",
   "id": "5f39b659-6318-4d95-9b57-cc2a07cc112d",
   "metadata": {},
   "source": [
    "So there are around 24k different movies and 162k different users which makes this a sparse rating matrix (otherwise there would be around 4M ratings)."
   ]
  },
  {
   "cell_type": "code",
   "execution_count": null,
   "id": "92f35ad9-b940-4f0c-9648-78a6c8f73de0",
   "metadata": {},
   "outputs": [],
   "source": []
  }
 ],
 "metadata": {
  "kernelspec": {
   "display_name": "Python 3 (ipykernel)",
   "language": "python",
   "name": "python3"
  },
  "language_info": {
   "codemirror_mode": {
    "name": "ipython",
    "version": 3
   },
   "file_extension": ".py",
   "mimetype": "text/x-python",
   "name": "python",
   "nbconvert_exporter": "python",
   "pygments_lexer": "ipython3",
   "version": "3.12.5"
  }
 },
 "nbformat": 4,
 "nbformat_minor": 5
}
