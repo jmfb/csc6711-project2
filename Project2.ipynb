{
 "cells": [
  {
   "cell_type": "markdown",
   "id": "d48b7262-9e26-4182-a542-73d7f99c23b0",
   "metadata": {},
   "source": [
    "# CSC6711 Project 2 - Exploring Rec Sys Data\n",
    "\n",
    "* **Author**: Jacob Buysse\n",
    "\n",
    "This notebook is an analysis of four datasets for recommendation systems (all files are located in the `datasets` subdirectory):\n",
    "* MovieLens - `movielens_25m.feather` (Movies)\n",
    "* Netflix Prize - `netflix_prize.feather` (Movies and TV Shows)\n",
    "* Yahoo! Music R2 - `yahoo_r2_songs.subsampled.feather` (Songs)\n",
    "* BoardGameGeek - `boardgamegeek.feather` (Board Games)\n",
    "\n",
    "We will be using the following libraries:"
   ]
  },
  {
   "cell_type": "code",
   "execution_count": 1,
   "id": "d44998c3-d42e-466d-9a2d-f407d883d0fd",
   "metadata": {},
   "outputs": [],
   "source": [
    "import numpy as np\n",
    "import pandas as pd\n",
    "import seaborn as sns\n",
    "import matplotlib\n",
    "import matplotlib.pyplot as plt"
   ]
  },
  {
   "cell_type": "markdown",
   "id": "8b6a7b05-7005-4c76-a8f8-070e29658366",
   "metadata": {},
   "source": [
    "Let us configure matplotlib for readable labels, high resolution, and automatic layout."
   ]
  },
  {
   "cell_type": "code",
   "execution_count": 2,
   "id": "bc81acea-2210-4bb0-b3dc-f6d3358e163f",
   "metadata": {},
   "outputs": [],
   "source": [
    "matplotlib.rc('axes', labelsize=16)\n",
    "matplotlib.rc('figure', dpi=150, autolayout=True)"
   ]
  },
  {
   "cell_type": "markdown",
   "id": "9812c3af-22e2-4058-8752-96735fce7212",
   "metadata": {},
   "source": [
    "## MovieLens Analysis\n",
    "\n",
    "Let us inspect the MoveLens dataset."
   ]
  },
  {
   "cell_type": "code",
   "execution_count": 4,
   "id": "ad242e29-bdcc-418a-a777-14b73fd1230a",
   "metadata": {},
   "outputs": [
    {
     "data": {
      "text/html": [
       "<div>\n",
       "<style scoped>\n",
       "    .dataframe tbody tr th:only-of-type {\n",
       "        vertical-align: middle;\n",
       "    }\n",
       "\n",
       "    .dataframe tbody tr th {\n",
       "        vertical-align: top;\n",
       "    }\n",
       "\n",
       "    .dataframe thead th {\n",
       "        text-align: right;\n",
       "    }\n",
       "</style>\n",
       "<table border=\"1\" class=\"dataframe\">\n",
       "  <thead>\n",
       "    <tr style=\"text-align: right;\">\n",
       "      <th></th>\n",
       "      <th>item_id</th>\n",
       "      <th>user_id</th>\n",
       "      <th>rating</th>\n",
       "    </tr>\n",
       "  </thead>\n",
       "  <tbody>\n",
       "    <tr>\n",
       "      <th>0</th>\n",
       "      <td>296</td>\n",
       "      <td>1</td>\n",
       "      <td>5.0</td>\n",
       "    </tr>\n",
       "    <tr>\n",
       "      <th>1</th>\n",
       "      <td>306</td>\n",
       "      <td>1</td>\n",
       "      <td>3.5</td>\n",
       "    </tr>\n",
       "    <tr>\n",
       "      <th>2</th>\n",
       "      <td>307</td>\n",
       "      <td>1</td>\n",
       "      <td>5.0</td>\n",
       "    </tr>\n",
       "    <tr>\n",
       "      <th>3</th>\n",
       "      <td>665</td>\n",
       "      <td>1</td>\n",
       "      <td>5.0</td>\n",
       "    </tr>\n",
       "    <tr>\n",
       "      <th>4</th>\n",
       "      <td>899</td>\n",
       "      <td>1</td>\n",
       "      <td>3.5</td>\n",
       "    </tr>\n",
       "    <tr>\n",
       "      <th>...</th>\n",
       "      <td>...</td>\n",
       "      <td>...</td>\n",
       "      <td>...</td>\n",
       "    </tr>\n",
       "    <tr>\n",
       "      <th>25000090</th>\n",
       "      <td>50872</td>\n",
       "      <td>162541</td>\n",
       "      <td>4.5</td>\n",
       "    </tr>\n",
       "    <tr>\n",
       "      <th>25000091</th>\n",
       "      <td>55768</td>\n",
       "      <td>162541</td>\n",
       "      <td>2.5</td>\n",
       "    </tr>\n",
       "    <tr>\n",
       "      <th>25000092</th>\n",
       "      <td>56176</td>\n",
       "      <td>162541</td>\n",
       "      <td>2.0</td>\n",
       "    </tr>\n",
       "    <tr>\n",
       "      <th>25000093</th>\n",
       "      <td>58559</td>\n",
       "      <td>162541</td>\n",
       "      <td>4.0</td>\n",
       "    </tr>\n",
       "    <tr>\n",
       "      <th>25000094</th>\n",
       "      <td>63876</td>\n",
       "      <td>162541</td>\n",
       "      <td>5.0</td>\n",
       "    </tr>\n",
       "  </tbody>\n",
       "</table>\n",
       "<p>24890583 rows × 3 columns</p>\n",
       "</div>"
      ],
      "text/plain": [
       "          item_id  user_id  rating\n",
       "0             296        1     5.0\n",
       "1             306        1     3.5\n",
       "2             307        1     5.0\n",
       "3             665        1     5.0\n",
       "4             899        1     3.5\n",
       "...           ...      ...     ...\n",
       "25000090    50872   162541     4.5\n",
       "25000091    55768   162541     2.5\n",
       "25000092    56176   162541     2.0\n",
       "25000093    58559   162541     4.0\n",
       "25000094    63876   162541     5.0\n",
       "\n",
       "[24890583 rows x 3 columns]"
      ]
     },
     "execution_count": 4,
     "metadata": {},
     "output_type": "execute_result"
    }
   ],
   "source": [
    "df1 = pd.read_feather('./datasets/movielens_25m.feather')\n",
    "df1"
   ]
  },
  {
   "cell_type": "code",
   "execution_count": 6,
   "id": "9b7a0867-c5c9-4b6f-b276-be63b7666ca7",
   "metadata": {},
   "outputs": [
    {
     "data": {
      "text/html": [
       "<div>\n",
       "<style scoped>\n",
       "    .dataframe tbody tr th:only-of-type {\n",
       "        vertical-align: middle;\n",
       "    }\n",
       "\n",
       "    .dataframe tbody tr th {\n",
       "        vertical-align: top;\n",
       "    }\n",
       "\n",
       "    .dataframe thead th {\n",
       "        text-align: right;\n",
       "    }\n",
       "</style>\n",
       "<table border=\"1\" class=\"dataframe\">\n",
       "  <thead>\n",
       "    <tr style=\"text-align: right;\">\n",
       "      <th></th>\n",
       "      <th>item_id</th>\n",
       "      <th>user_id</th>\n",
       "      <th>rating</th>\n",
       "    </tr>\n",
       "  </thead>\n",
       "  <tbody>\n",
       "    <tr>\n",
       "      <th>count</th>\n",
       "      <td>2.489058e+07</td>\n",
       "      <td>2.489058e+07</td>\n",
       "      <td>2.489058e+07</td>\n",
       "    </tr>\n",
       "    <tr>\n",
       "      <th>mean</th>\n",
       "      <td>2.083573e+04</td>\n",
       "      <td>8.120344e+04</td>\n",
       "      <td>3.536225e+00</td>\n",
       "    </tr>\n",
       "    <tr>\n",
       "      <th>std</th>\n",
       "      <td>3.828946e+04</td>\n",
       "      <td>4.680652e+04</td>\n",
       "      <td>1.059729e+00</td>\n",
       "    </tr>\n",
       "    <tr>\n",
       "      <th>min</th>\n",
       "      <td>1.000000e+00</td>\n",
       "      <td>1.000000e+00</td>\n",
       "      <td>5.000000e-01</td>\n",
       "    </tr>\n",
       "    <tr>\n",
       "      <th>25%</th>\n",
       "      <td>1.196000e+03</td>\n",
       "      <td>4.051000e+04</td>\n",
       "      <td>3.000000e+00</td>\n",
       "    </tr>\n",
       "    <tr>\n",
       "      <th>50%</th>\n",
       "      <td>2.918000e+03</td>\n",
       "      <td>8.094800e+04</td>\n",
       "      <td>3.500000e+00</td>\n",
       "    </tr>\n",
       "    <tr>\n",
       "      <th>75%</th>\n",
       "      <td>8.446000e+03</td>\n",
       "      <td>1.215920e+05</td>\n",
       "      <td>4.000000e+00</td>\n",
       "    </tr>\n",
       "    <tr>\n",
       "      <th>max</th>\n",
       "      <td>2.087370e+05</td>\n",
       "      <td>1.625410e+05</td>\n",
       "      <td>5.000000e+00</td>\n",
       "    </tr>\n",
       "  </tbody>\n",
       "</table>\n",
       "</div>"
      ],
      "text/plain": [
       "            item_id       user_id        rating\n",
       "count  2.489058e+07  2.489058e+07  2.489058e+07\n",
       "mean   2.083573e+04  8.120344e+04  3.536225e+00\n",
       "std    3.828946e+04  4.680652e+04  1.059729e+00\n",
       "min    1.000000e+00  1.000000e+00  5.000000e-01\n",
       "25%    1.196000e+03  4.051000e+04  3.000000e+00\n",
       "50%    2.918000e+03  8.094800e+04  3.500000e+00\n",
       "75%    8.446000e+03  1.215920e+05  4.000000e+00\n",
       "max    2.087370e+05  1.625410e+05  5.000000e+00"
      ]
     },
     "execution_count": 6,
     "metadata": {},
     "output_type": "execute_result"
    }
   ],
   "source": [
    "df1.describe()"
   ]
  },
  {
   "cell_type": "code",
   "execution_count": 7,
   "id": "fab419a2-a8e2-46db-8d07-fff820009a84",
   "metadata": {},
   "outputs": [
    {
     "name": "stdout",
     "output_type": "stream",
     "text": [
      "<class 'pandas.core.frame.DataFrame'>\n",
      "Index: 24890583 entries, 0 to 25000094\n",
      "Data columns (total 3 columns):\n",
      " #   Column   Dtype  \n",
      "---  ------   -----  \n",
      " 0   item_id  int64  \n",
      " 1   user_id  int64  \n",
      " 2   rating   float64\n",
      "dtypes: float64(1), int64(2)\n",
      "memory usage: 759.6 MB\n"
     ]
    }
   ],
   "source": [
    "df1.info()"
   ]
  },
  {
   "cell_type": "markdown",
   "id": "78ea19cc-8935-47c9-ab21-15e0a33de798",
   "metadata": {},
   "source": [
    "So we have 24.9M ratings by item_id/user_id.  Ratings are from 0.5 to 5 (so assuming a star rating system where you can't give a zero-rating and where every record has a rating - so no nulls).\n",
    "\n",
    "Let us see how many distinct items and users we have."
   ]
  },
  {
   "cell_type": "code",
   "execution_count": 21,
   "id": "455d5743-0229-4b14-b19b-0402f29b200e",
   "metadata": {},
   "outputs": [
    {
     "name": "stdout",
     "output_type": "stream",
     "text": [
      "24,890,583 total ratings\n",
      "24,330 distinct item IDs\n",
      "162,541 distinct user IDs\n",
      "3,954,622,530 total possible ratings\n",
      "0.63% density\n"
     ]
    }
   ],
   "source": [
    "rating_count = df1.shape[0]\n",
    "item_count = df1.item_id.nunique()\n",
    "user_count = df1.user_id.nunique()\n",
    "total_count = item_count * user_count\n",
    "density = rating_count / total_count\n",
    "print(f\"{rating_count:,} total ratings\")\n",
    "print(f\"{item_count:,} distinct item IDs\")\n",
    "print(f\"{user_count:,} distinct user IDs\")\n",
    "print(f\"{total_count:,} total possible ratings\")\n",
    "print(f\"{density:.2%} density\")"
   ]
  },
  {
   "cell_type": "markdown",
   "id": "5f39b659-6318-4d95-9b57-cc2a07cc112d",
   "metadata": {},
   "source": [
    "So there are around 24k different movies and 162k different users which makes this a sparse rating matrix (otherwise there would be around 4B ratings) of only 0.63% populated values."
   ]
  },
  {
   "cell_type": "code",
   "execution_count": 35,
   "id": "92f35ad9-b940-4f0c-9648-78a6c8f73de0",
   "metadata": {},
   "outputs": [
    {
     "data": {
      "text/html": [
       "<div>\n",
       "<style scoped>\n",
       "    .dataframe tbody tr th:only-of-type {\n",
       "        vertical-align: middle;\n",
       "    }\n",
       "\n",
       "    .dataframe tbody tr th {\n",
       "        vertical-align: top;\n",
       "    }\n",
       "\n",
       "    .dataframe thead th {\n",
       "        text-align: right;\n",
       "    }\n",
       "</style>\n",
       "<table border=\"1\" class=\"dataframe\">\n",
       "  <thead>\n",
       "    <tr style=\"text-align: right;\">\n",
       "      <th></th>\n",
       "      <th>rating</th>\n",
       "    </tr>\n",
       "  </thead>\n",
       "  <tbody>\n",
       "    <tr>\n",
       "      <th>count</th>\n",
       "      <td>24330.000000</td>\n",
       "    </tr>\n",
       "    <tr>\n",
       "      <th>mean</th>\n",
       "      <td>1023.040814</td>\n",
       "    </tr>\n",
       "    <tr>\n",
       "      <th>std</th>\n",
       "      <td>3780.192399</td>\n",
       "    </tr>\n",
       "    <tr>\n",
       "      <th>min</th>\n",
       "      <td>10.000000</td>\n",
       "    </tr>\n",
       "    <tr>\n",
       "      <th>25%</th>\n",
       "      <td>20.000000</td>\n",
       "    </tr>\n",
       "    <tr>\n",
       "      <th>50%</th>\n",
       "      <td>62.000000</td>\n",
       "    </tr>\n",
       "    <tr>\n",
       "      <th>75%</th>\n",
       "      <td>386.000000</td>\n",
       "    </tr>\n",
       "    <tr>\n",
       "      <th>max</th>\n",
       "      <td>81491.000000</td>\n",
       "    </tr>\n",
       "  </tbody>\n",
       "</table>\n",
       "</div>"
      ],
      "text/plain": [
       "             rating\n",
       "count  24330.000000\n",
       "mean    1023.040814\n",
       "std     3780.192399\n",
       "min       10.000000\n",
       "25%       20.000000\n",
       "50%       62.000000\n",
       "75%      386.000000\n",
       "max    81491.000000"
      ]
     },
     "execution_count": 35,
     "metadata": {},
     "output_type": "execute_result"
    }
   ],
   "source": [
    "df1_counts = df1.groupby('item_id')[['rating']].count()\n",
    "df1_counts.describe()"
   ]
  },
  {
   "cell_type": "markdown",
   "id": "af7ad8b7-010c-49d3-8933-191d1053f5d7",
   "metadata": {},
   "source": [
    "We can see that the 24k items are represented in the groups with the fewest ratings being 10 and the most ratings being 81k.  The mean rating count is 1k +/- 3.7k.  The mean and standard deviation would be better represented on the log of the values (per the graph below)."
   ]
  },
  {
   "cell_type": "code",
   "execution_count": 36,
   "id": "19fb8782-ad0b-4e9a-9414-ceac5300c061",
   "metadata": {},
   "outputs": [
    {
     "data": {
      "image/png": "[encoded data removed]",
      "text/plain": [
       "<Figure size 960x720 with 1 Axes>"
      ]
     },
     "metadata": {},
     "output_type": "display_data"
    }
   ],
   "source": [
    "plot = sns.histplot(x=df1_counts['rating'], log_scale=True)\n",
    "plot.set(title='MovieLens Rating Count Histogram', xlabel='Rating Count');"
   ]
  },
  {
   "cell_type": "markdown",
   "id": "5ee96d3b-46ef-4614-afe6-de8aedeb6a05",
   "metadata": {},
   "source": [
    "We can see that the most frequent count of ratings is around 10 with 2500 items falling in that range.  The top end is only one rating at just shy of 100k ratings (81k per the above table).  There is a nice hocky stick shape to this graph (we could eliminate the bump on the left side of the graph by changing the bin size, if we wanted to)."
   ]
  },
  {
   "cell_type": "markdown",
   "id": "9e2f2cee-e0ea-488f-b1db-196521639f68",
   "metadata": {},
   "source": [
    "## Netflix Prize Analysis\n",
    "\n",
    "Let us inspect the Netflix dataset."
   ]
  },
  {
   "cell_type": "code",
   "execution_count": 37,
   "id": "16d3f004-818d-474c-9aed-095e4e63ecec",
   "metadata": {},
   "outputs": [
    {
     "data": {
      "text/html": [
       "<div>\n",
       "<style scoped>\n",
       "    .dataframe tbody tr th:only-of-type {\n",
       "        vertical-align: middle;\n",
       "    }\n",
       "\n",
       "    .dataframe tbody tr th {\n",
       "        vertical-align: top;\n",
       "    }\n",
       "\n",
       "    .dataframe thead th {\n",
       "        text-align: right;\n",
       "    }\n",
       "</style>\n",
       "<table border=\"1\" class=\"dataframe\">\n",
       "  <thead>\n",
       "    <tr style=\"text-align: right;\">\n",
       "      <th></th>\n",
       "      <th>item_id</th>\n",
       "      <th>user_id</th>\n",
       "      <th>rating</th>\n",
       "    </tr>\n",
       "  </thead>\n",
       "  <tbody>\n",
       "    <tr>\n",
       "      <th>0</th>\n",
       "      <td>1</td>\n",
       "      <td>1488844</td>\n",
       "      <td>3</td>\n",
       "    </tr>\n",
       "    <tr>\n",
       "      <th>1</th>\n",
       "      <td>1</td>\n",
       "      <td>822109</td>\n",
       "      <td>5</td>\n",
       "    </tr>\n",
       "    <tr>\n",
       "      <th>2</th>\n",
       "      <td>1</td>\n",
       "      <td>885013</td>\n",
       "      <td>4</td>\n",
       "    </tr>\n",
       "    <tr>\n",
       "      <th>3</th>\n",
       "      <td>1</td>\n",
       "      <td>30878</td>\n",
       "      <td>4</td>\n",
       "    </tr>\n",
       "    <tr>\n",
       "      <th>4</th>\n",
       "      <td>1</td>\n",
       "      <td>823519</td>\n",
       "      <td>3</td>\n",
       "    </tr>\n",
       "    <tr>\n",
       "      <th>...</th>\n",
       "      <td>...</td>\n",
       "      <td>...</td>\n",
       "      <td>...</td>\n",
       "    </tr>\n",
       "    <tr>\n",
       "      <th>51031350</th>\n",
       "      <td>9210</td>\n",
       "      <td>2420260</td>\n",
       "      <td>1</td>\n",
       "    </tr>\n",
       "    <tr>\n",
       "      <th>51031351</th>\n",
       "      <td>9210</td>\n",
       "      <td>761176</td>\n",
       "      <td>3</td>\n",
       "    </tr>\n",
       "    <tr>\n",
       "      <th>51031352</th>\n",
       "      <td>9210</td>\n",
       "      <td>459277</td>\n",
       "      <td>3</td>\n",
       "    </tr>\n",
       "    <tr>\n",
       "      <th>51031353</th>\n",
       "      <td>9210</td>\n",
       "      <td>2407365</td>\n",
       "      <td>4</td>\n",
       "    </tr>\n",
       "    <tr>\n",
       "      <th>51031354</th>\n",
       "      <td>9210</td>\n",
       "      <td>627867</td>\n",
       "      <td>3</td>\n",
       "    </tr>\n",
       "  </tbody>\n",
       "</table>\n",
       "<p>51031355 rows × 3 columns</p>\n",
       "</div>"
      ],
      "text/plain": [
       "          item_id  user_id  rating\n",
       "0               1  1488844       3\n",
       "1               1   822109       5\n",
       "2               1   885013       4\n",
       "3               1    30878       4\n",
       "4               1   823519       3\n",
       "...           ...      ...     ...\n",
       "51031350     9210  2420260       1\n",
       "51031351     9210   761176       3\n",
       "51031352     9210   459277       3\n",
       "51031353     9210  2407365       4\n",
       "51031354     9210   627867       3\n",
       "\n",
       "[51031355 rows x 3 columns]"
      ]
     },
     "execution_count": 37,
     "metadata": {},
     "output_type": "execute_result"
    }
   ],
   "source": [
    "df2 = pd.read_feather('./datasets/netflix_prize.feather')\n",
    "df2"
   ]
  },
  {
   "cell_type": "code",
   "execution_count": 38,
   "id": "9a46258a-69f5-41d6-926c-7fbb4742f045",
   "metadata": {},
   "outputs": [
    {
     "data": {
      "text/html": [
       "<div>\n",
       "<style scoped>\n",
       "    .dataframe tbody tr th:only-of-type {\n",
       "        vertical-align: middle;\n",
       "    }\n",
       "\n",
       "    .dataframe tbody tr th {\n",
       "        vertical-align: top;\n",
       "    }\n",
       "\n",
       "    .dataframe thead th {\n",
       "        text-align: right;\n",
       "    }\n",
       "</style>\n",
       "<table border=\"1\" class=\"dataframe\">\n",
       "  <thead>\n",
       "    <tr style=\"text-align: right;\">\n",
       "      <th></th>\n",
       "      <th>item_id</th>\n",
       "      <th>user_id</th>\n",
       "      <th>rating</th>\n",
       "    </tr>\n",
       "  </thead>\n",
       "  <tbody>\n",
       "    <tr>\n",
       "      <th>count</th>\n",
       "      <td>5.103136e+07</td>\n",
       "      <td>5.103136e+07</td>\n",
       "      <td>5.103136e+07</td>\n",
       "    </tr>\n",
       "    <tr>\n",
       "      <th>mean</th>\n",
       "      <td>4.659441e+03</td>\n",
       "      <td>1.322400e+06</td>\n",
       "      <td>3.594161e+00</td>\n",
       "    </tr>\n",
       "    <tr>\n",
       "      <th>std</th>\n",
       "      <td>2.583608e+03</td>\n",
       "      <td>7.645480e+05</td>\n",
       "      <td>1.085369e+00</td>\n",
       "    </tr>\n",
       "    <tr>\n",
       "      <th>min</th>\n",
       "      <td>1.000000e+00</td>\n",
       "      <td>6.000000e+00</td>\n",
       "      <td>1.000000e+00</td>\n",
       "    </tr>\n",
       "    <tr>\n",
       "      <th>25%</th>\n",
       "      <td>2.452000e+03</td>\n",
       "      <td>6.611430e+05</td>\n",
       "      <td>3.000000e+00</td>\n",
       "    </tr>\n",
       "    <tr>\n",
       "      <th>50%</th>\n",
       "      <td>4.740000e+03</td>\n",
       "      <td>1.318880e+06</td>\n",
       "      <td>4.000000e+00</td>\n",
       "    </tr>\n",
       "    <tr>\n",
       "      <th>75%</th>\n",
       "      <td>6.829000e+03</td>\n",
       "      <td>1.984428e+06</td>\n",
       "      <td>4.000000e+00</td>\n",
       "    </tr>\n",
       "    <tr>\n",
       "      <th>max</th>\n",
       "      <td>9.210000e+03</td>\n",
       "      <td>2.649429e+06</td>\n",
       "      <td>5.000000e+00</td>\n",
       "    </tr>\n",
       "  </tbody>\n",
       "</table>\n",
       "</div>"
      ],
      "text/plain": [
       "            item_id       user_id        rating\n",
       "count  5.103136e+07  5.103136e+07  5.103136e+07\n",
       "mean   4.659441e+03  1.322400e+06  3.594161e+00\n",
       "std    2.583608e+03  7.645480e+05  1.085369e+00\n",
       "min    1.000000e+00  6.000000e+00  1.000000e+00\n",
       "25%    2.452000e+03  6.611430e+05  3.000000e+00\n",
       "50%    4.740000e+03  1.318880e+06  4.000000e+00\n",
       "75%    6.829000e+03  1.984428e+06  4.000000e+00\n",
       "max    9.210000e+03  2.649429e+06  5.000000e+00"
      ]
     },
     "execution_count": 38,
     "metadata": {},
     "output_type": "execute_result"
    }
   ],
   "source": [
    "df2.describe()"
   ]
  },
  {
   "cell_type": "code",
   "execution_count": 39,
   "id": "9e95f9cf-9378-476b-b1d0-d950246bd599",
   "metadata": {},
   "outputs": [
    {
     "name": "stdout",
     "output_type": "stream",
     "text": [
      "<class 'pandas.core.frame.DataFrame'>\n",
      "RangeIndex: 51031355 entries, 0 to 51031354\n",
      "Data columns (total 3 columns):\n",
      " #   Column   Dtype\n",
      "---  ------   -----\n",
      " 0   item_id  int64\n",
      " 1   user_id  int64\n",
      " 2   rating   int64\n",
      "dtypes: int64(3)\n",
      "memory usage: 1.1 GB\n"
     ]
    }
   ],
   "source": [
    "df2.info()"
   ]
  },
  {
   "cell_type": "markdown",
   "id": "31511c04-018f-40ae-b959-d59c73dec5ce",
   "metadata": {},
   "source": [
    "So we have 51M ratings by item_id/user_id.  Ratings are from 1 to 5 (so assuming a star rating system where you can't give a zero-rating or a half star rating and where every record has a rating - so no nulls).\n",
    "\n",
    "Let us see how many distinct items and users we have."
   ]
  },
  {
   "cell_type": "code",
   "execution_count": 40,
   "id": "0556ae0e-c54d-42de-b1b6-406f06145fc3",
   "metadata": {},
   "outputs": [
    {
     "name": "stdout",
     "output_type": "stream",
     "text": [
      "51,031,355 total ratings\n",
      "9,210 distinct item IDs\n",
      "478,018 distinct user IDs\n",
      "4,402,545,780 total possible ratings\n",
      "1.16% density\n"
     ]
    }
   ],
   "source": [
    "rating_count = df2.shape[0]\n",
    "item_count = df2.item_id.nunique()\n",
    "user_count = df2.user_id.nunique()\n",
    "total_count = item_count * user_count\n",
    "density = rating_count / total_count\n",
    "print(f\"{rating_count:,} total ratings\")\n",
    "print(f\"{item_count:,} distinct item IDs\")\n",
    "print(f\"{user_count:,} distinct user IDs\")\n",
    "print(f\"{total_count:,} total possible ratings\")\n",
    "print(f\"{density:.2%} density\")"
   ]
  },
  {
   "cell_type": "markdown",
   "id": "d44c9244-91bc-4839-8e3e-4d7ff43524b5",
   "metadata": {},
   "source": [
    "So there are only around 9k different movies and TV shows but 478k different users which makes this a sparse rating matrix (otherwise there would be around 4.4B ratings) of only 1.16% populated values."
   ]
  },
  {
   "cell_type": "code",
   "execution_count": 42,
   "id": "44e8d614-e004-4c4b-a8fa-d79a14c4e296",
   "metadata": {},
   "outputs": [
    {
     "data": {
      "text/html": [
       "<div>\n",
       "<style scoped>\n",
       "    .dataframe tbody tr th:only-of-type {\n",
       "        vertical-align: middle;\n",
       "    }\n",
       "\n",
       "    .dataframe tbody tr th {\n",
       "        vertical-align: top;\n",
       "    }\n",
       "\n",
       "    .dataframe thead th {\n",
       "        text-align: right;\n",
       "    }\n",
       "</style>\n",
       "<table border=\"1\" class=\"dataframe\">\n",
       "  <thead>\n",
       "    <tr style=\"text-align: right;\">\n",
       "      <th></th>\n",
       "      <th>rating</th>\n",
       "    </tr>\n",
       "  </thead>\n",
       "  <tbody>\n",
       "    <tr>\n",
       "      <th>count</th>\n",
       "      <td>9210.000000</td>\n",
       "    </tr>\n",
       "    <tr>\n",
       "      <th>mean</th>\n",
       "      <td>5540.863735</td>\n",
       "    </tr>\n",
       "    <tr>\n",
       "      <th>std</th>\n",
       "      <td>16432.061634</td>\n",
       "    </tr>\n",
       "    <tr>\n",
       "      <th>min</th>\n",
       "      <td>10.000000</td>\n",
       "    </tr>\n",
       "    <tr>\n",
       "      <th>25%</th>\n",
       "      <td>188.000000</td>\n",
       "    </tr>\n",
       "    <tr>\n",
       "      <th>50%</th>\n",
       "      <td>553.000000</td>\n",
       "    </tr>\n",
       "    <tr>\n",
       "      <th>75%</th>\n",
       "      <td>2709.500000</td>\n",
       "    </tr>\n",
       "    <tr>\n",
       "      <th>max</th>\n",
       "      <td>232944.000000</td>\n",
       "    </tr>\n",
       "  </tbody>\n",
       "</table>\n",
       "</div>"
      ],
      "text/plain": [
       "              rating\n",
       "count    9210.000000\n",
       "mean     5540.863735\n",
       "std     16432.061634\n",
       "min        10.000000\n",
       "25%       188.000000\n",
       "50%       553.000000\n",
       "75%      2709.500000\n",
       "max    232944.000000"
      ]
     },
     "execution_count": 42,
     "metadata": {},
     "output_type": "execute_result"
    }
   ],
   "source": [
    "df2_counts = df2.groupby('item_id')[['rating']].count()\n",
    "df2_counts.describe()"
   ]
  },
  {
   "cell_type": "markdown",
   "id": "51901c1d-5427-4447-9baf-1af5c80be64e",
   "metadata": {},
   "source": [
    "We can see that the 9k items are represented in the groups with the fewest ratings being 10 and the most ratings being 232k.  The mean rating count is 5k +/- 16k.  The mean and standard deviation would be better represented on the log of the values (per the graph below)."
   ]
  },
  {
   "cell_type": "code",
   "execution_count": 43,
   "id": "f9e2ec08-6f17-4e4b-8205-957ef8b6d088",
   "metadata": {},
   "outputs": [
    {
     "data": {
      "image/png": "[encoded data removed]",
      "text/plain": [
       "<Figure size 960x720 with 1 Axes>"
      ]
     },
     "metadata": {},
     "output_type": "display_data"
    }
   ],
   "source": [
    "plot = sns.histplot(x=df2_counts['rating'], log_scale=True)\n",
    "plot.set(title='Netflix Rating Count Histogram', xlabel='Rating Count');"
   ]
  },
  {
   "cell_type": "markdown",
   "id": "28157cf6-4e4e-46ab-bfe9-3d5ed8917aba",
   "metadata": {},
   "source": [
    "This graph is more skewed towards the 100 rating count for items (around 700) with a steep leading edge and steady trailing edge."
   ]
  },
  {
   "cell_type": "markdown",
   "id": "1af8e90f-86f8-44dc-8873-49b3dd17d51d",
   "metadata": {},
   "source": [
    "## Yahoo Music Analysis\n",
    "\n",
    "Let us look at the Yahoo dataset."
   ]
  },
  {
   "cell_type": "code",
   "execution_count": 44,
   "id": "e0dbee46-637b-43d5-9d76-4b28ec0eef8b",
   "metadata": {},
   "outputs": [
    {
     "data": {
      "text/html": [
       "<div>\n",
       "<style scoped>\n",
       "    .dataframe tbody tr th:only-of-type {\n",
       "        vertical-align: middle;\n",
       "    }\n",
       "\n",
       "    .dataframe tbody tr th {\n",
       "        vertical-align: top;\n",
       "    }\n",
       "\n",
       "    .dataframe thead th {\n",
       "        text-align: right;\n",
       "    }\n",
       "</style>\n",
       "<table border=\"1\" class=\"dataframe\">\n",
       "  <thead>\n",
       "    <tr style=\"text-align: right;\">\n",
       "      <th></th>\n",
       "      <th>user_id</th>\n",
       "      <th>item_id</th>\n",
       "      <th>rating</th>\n",
       "    </tr>\n",
       "  </thead>\n",
       "  <tbody>\n",
       "    <tr>\n",
       "      <th>35</th>\n",
       "      <td>1600003</td>\n",
       "      <td>87987</td>\n",
       "      <td>5</td>\n",
       "    </tr>\n",
       "    <tr>\n",
       "      <th>53</th>\n",
       "      <td>1600005</td>\n",
       "      <td>31429</td>\n",
       "      <td>2</td>\n",
       "    </tr>\n",
       "    <tr>\n",
       "      <th>125</th>\n",
       "      <td>1600012</td>\n",
       "      <td>83382</td>\n",
       "      <td>4</td>\n",
       "    </tr>\n",
       "    <tr>\n",
       "      <th>230</th>\n",
       "      <td>1600023</td>\n",
       "      <td>7223</td>\n",
       "      <td>4</td>\n",
       "    </tr>\n",
       "    <tr>\n",
       "      <th>390</th>\n",
       "      <td>1600039</td>\n",
       "      <td>17580</td>\n",
       "      <td>3</td>\n",
       "    </tr>\n",
       "    <tr>\n",
       "      <th>...</th>\n",
       "      <td>...</td>\n",
       "      <td>...</td>\n",
       "      <td>...</td>\n",
       "    </tr>\n",
       "    <tr>\n",
       "      <th>1999463</th>\n",
       "      <td>199946</td>\n",
       "      <td>56313</td>\n",
       "      <td>4</td>\n",
       "    </tr>\n",
       "    <tr>\n",
       "      <th>1999513</th>\n",
       "      <td>199951</td>\n",
       "      <td>18534</td>\n",
       "      <td>1</td>\n",
       "    </tr>\n",
       "    <tr>\n",
       "      <th>1999710</th>\n",
       "      <td>199971</td>\n",
       "      <td>1513</td>\n",
       "      <td>4</td>\n",
       "    </tr>\n",
       "    <tr>\n",
       "      <th>1999762</th>\n",
       "      <td>199976</td>\n",
       "      <td>19763</td>\n",
       "      <td>4</td>\n",
       "    </tr>\n",
       "    <tr>\n",
       "      <th>1999917</th>\n",
       "      <td>199991</td>\n",
       "      <td>126449</td>\n",
       "      <td>5</td>\n",
       "    </tr>\n",
       "  </tbody>\n",
       "</table>\n",
       "<p>6937275 rows × 3 columns</p>\n",
       "</div>"
      ],
      "text/plain": [
       "         user_id  item_id  rating\n",
       "35       1600003    87987       5\n",
       "53       1600005    31429       2\n",
       "125      1600012    83382       4\n",
       "230      1600023     7223       4\n",
       "390      1600039    17580       3\n",
       "...          ...      ...     ...\n",
       "1999463   199946    56313       4\n",
       "1999513   199951    18534       1\n",
       "1999710   199971     1513       4\n",
       "1999762   199976    19763       4\n",
       "1999917   199991   126449       5\n",
       "\n",
       "[6937275 rows x 3 columns]"
      ]
     },
     "execution_count": 44,
     "metadata": {},
     "output_type": "execute_result"
    }
   ],
   "source": [
    "df3 = pd.read_feather('./datasets/yahoo_r2_songs.subsampled.feather')\n",
    "df3"
   ]
  },
  {
   "cell_type": "code",
   "execution_count": 45,
   "id": "7cc61816-949c-4ede-9e33-f3ca5f63901a",
   "metadata": {},
   "outputs": [
    {
     "data": {
      "text/html": [
       "<div>\n",
       "<style scoped>\n",
       "    .dataframe tbody tr th:only-of-type {\n",
       "        vertical-align: middle;\n",
       "    }\n",
       "\n",
       "    .dataframe tbody tr th {\n",
       "        vertical-align: top;\n",
       "    }\n",
       "\n",
       "    .dataframe thead th {\n",
       "        text-align: right;\n",
       "    }\n",
       "</style>\n",
       "<table border=\"1\" class=\"dataframe\">\n",
       "  <thead>\n",
       "    <tr style=\"text-align: right;\">\n",
       "      <th></th>\n",
       "      <th>user_id</th>\n",
       "      <th>item_id</th>\n",
       "      <th>rating</th>\n",
       "    </tr>\n",
       "  </thead>\n",
       "  <tbody>\n",
       "    <tr>\n",
       "      <th>count</th>\n",
       "      <td>6.937275e+06</td>\n",
       "      <td>6.937275e+06</td>\n",
       "      <td>6.937275e+06</td>\n",
       "    </tr>\n",
       "    <tr>\n",
       "      <th>mean</th>\n",
       "      <td>9.117187e+05</td>\n",
       "      <td>6.666915e+04</td>\n",
       "      <td>3.127369e+00</td>\n",
       "    </tr>\n",
       "    <tr>\n",
       "      <th>std</th>\n",
       "      <td>5.259071e+05</td>\n",
       "      <td>4.171872e+04</td>\n",
       "      <td>1.603545e+00</td>\n",
       "    </tr>\n",
       "    <tr>\n",
       "      <th>min</th>\n",
       "      <td>1.000000e+00</td>\n",
       "      <td>1.180000e+02</td>\n",
       "      <td>1.000000e+00</td>\n",
       "    </tr>\n",
       "    <tr>\n",
       "      <th>25%</th>\n",
       "      <td>4.559910e+05</td>\n",
       "      <td>2.768300e+04</td>\n",
       "      <td>1.000000e+00</td>\n",
       "    </tr>\n",
       "    <tr>\n",
       "      <th>50%</th>\n",
       "      <td>9.113070e+05</td>\n",
       "      <td>6.712700e+04</td>\n",
       "      <td>3.000000e+00</td>\n",
       "    </tr>\n",
       "    <tr>\n",
       "      <th>75%</th>\n",
       "      <td>1.366701e+06</td>\n",
       "      <td>1.033120e+05</td>\n",
       "      <td>5.000000e+00</td>\n",
       "    </tr>\n",
       "    <tr>\n",
       "      <th>max</th>\n",
       "      <td>1.823177e+06</td>\n",
       "      <td>1.366890e+05</td>\n",
       "      <td>5.000000e+00</td>\n",
       "    </tr>\n",
       "  </tbody>\n",
       "</table>\n",
       "</div>"
      ],
      "text/plain": [
       "            user_id       item_id        rating\n",
       "count  6.937275e+06  6.937275e+06  6.937275e+06\n",
       "mean   9.117187e+05  6.666915e+04  3.127369e+00\n",
       "std    5.259071e+05  4.171872e+04  1.603545e+00\n",
       "min    1.000000e+00  1.180000e+02  1.000000e+00\n",
       "25%    4.559910e+05  2.768300e+04  1.000000e+00\n",
       "50%    9.113070e+05  6.712700e+04  3.000000e+00\n",
       "75%    1.366701e+06  1.033120e+05  5.000000e+00\n",
       "max    1.823177e+06  1.366890e+05  5.000000e+00"
      ]
     },
     "execution_count": 45,
     "metadata": {},
     "output_type": "execute_result"
    }
   ],
   "source": [
    "df3.describe()"
   ]
  },
  {
   "cell_type": "code",
   "execution_count": 46,
   "id": "cd535200-f5fb-496d-8577-ffe062b01ef7",
   "metadata": {},
   "outputs": [
    {
     "name": "stdout",
     "output_type": "stream",
     "text": [
      "<class 'pandas.core.frame.DataFrame'>\n",
      "Index: 6937275 entries, 35 to 1999917\n",
      "Data columns (total 3 columns):\n",
      " #   Column   Dtype\n",
      "---  ------   -----\n",
      " 0   user_id  int64\n",
      " 1   item_id  int64\n",
      " 2   rating   int64\n",
      "dtypes: int64(3)\n",
      "memory usage: 211.7 MB\n"
     ]
    }
   ],
   "source": [
    "df3.info()"
   ]
  },
  {
   "cell_type": "markdown",
   "id": "a8dc9101-3d2f-4d4f-b1a7-532201208e41",
   "metadata": {},
   "source": [
    "So we have 7M ratings by item_id/user_id.  Ratings are from 1 to 5 (so assuming a star rating system where you can't give a zero-rating or a half star rating and where every record has a rating - so no nulls).\n",
    "\n",
    "Let us see how many distinct items and users we have."
   ]
  },
  {
   "cell_type": "code",
   "execution_count": 47,
   "id": "c46a97d7-c5fa-4246-9f38-0298da3ebd92",
   "metadata": {},
   "outputs": [
    {
     "name": "stdout",
     "output_type": "stream",
     "text": [
      "6,937,275 total ratings\n",
      "1,368 distinct item IDs\n",
      "1,255,262 distinct user IDs\n",
      "1,717,198,416 total possible ratings\n",
      "0.40% density\n"
     ]
    }
   ],
   "source": [
    "rating_count = df3.shape[0]\n",
    "item_count = df3.item_id.nunique()\n",
    "user_count = df3.user_id.nunique()\n",
    "total_count = item_count * user_count\n",
    "density = rating_count / total_count\n",
    "print(f\"{rating_count:,} total ratings\")\n",
    "print(f\"{item_count:,} distinct item IDs\")\n",
    "print(f\"{user_count:,} distinct user IDs\")\n",
    "print(f\"{total_count:,} total possible ratings\")\n",
    "print(f\"{density:.2%} density\")"
   ]
  },
  {
   "cell_type": "markdown",
   "id": "1922041f-3a57-4997-9cce-7221972db1f3",
   "metadata": {},
   "source": [
    "So there are only around 1k different songs but 1.2M different users which makes this a sparse rating matrix (otherwise there would be around 1.7B ratings) of only 0.4% populated values."
   ]
  },
  {
   "cell_type": "code",
   "execution_count": 48,
   "id": "044e68a2-b16f-4b1c-aba0-bdc2c7e0bea5",
   "metadata": {},
   "outputs": [
    {
     "data": {
      "text/html": [
       "<div>\n",
       "<style scoped>\n",
       "    .dataframe tbody tr th:only-of-type {\n",
       "        vertical-align: middle;\n",
       "    }\n",
       "\n",
       "    .dataframe tbody tr th {\n",
       "        vertical-align: top;\n",
       "    }\n",
       "\n",
       "    .dataframe thead th {\n",
       "        text-align: right;\n",
       "    }\n",
       "</style>\n",
       "<table border=\"1\" class=\"dataframe\">\n",
       "  <thead>\n",
       "    <tr style=\"text-align: right;\">\n",
       "      <th></th>\n",
       "      <th>rating</th>\n",
       "    </tr>\n",
       "  </thead>\n",
       "  <tbody>\n",
       "    <tr>\n",
       "      <th>count</th>\n",
       "      <td>1368.000000</td>\n",
       "    </tr>\n",
       "    <tr>\n",
       "      <th>mean</th>\n",
       "      <td>5071.107456</td>\n",
       "    </tr>\n",
       "    <tr>\n",
       "      <th>std</th>\n",
       "      <td>9486.314562</td>\n",
       "    </tr>\n",
       "    <tr>\n",
       "      <th>min</th>\n",
       "      <td>1000.000000</td>\n",
       "    </tr>\n",
       "    <tr>\n",
       "      <th>25%</th>\n",
       "      <td>1400.750000</td>\n",
       "    </tr>\n",
       "    <tr>\n",
       "      <th>50%</th>\n",
       "      <td>2207.500000</td>\n",
       "    </tr>\n",
       "    <tr>\n",
       "      <th>75%</th>\n",
       "      <td>4171.500000</td>\n",
       "    </tr>\n",
       "    <tr>\n",
       "      <th>max</th>\n",
       "      <td>113541.000000</td>\n",
       "    </tr>\n",
       "  </tbody>\n",
       "</table>\n",
       "</div>"
      ],
      "text/plain": [
       "              rating\n",
       "count    1368.000000\n",
       "mean     5071.107456\n",
       "std      9486.314562\n",
       "min      1000.000000\n",
       "25%      1400.750000\n",
       "50%      2207.500000\n",
       "75%      4171.500000\n",
       "max    113541.000000"
      ]
     },
     "execution_count": 48,
     "metadata": {},
     "output_type": "execute_result"
    }
   ],
   "source": [
    "df3_counts = df3.groupby('item_id')[['rating']].count()\n",
    "df3_counts.describe()"
   ]
  },
  {
   "cell_type": "markdown",
   "id": "7addeb49-191c-4f42-9189-5ed3a8d5b1d9",
   "metadata": {},
   "source": [
    "We can see that the 1k items are represented in the groups with the fewest ratings being 1k and the most ratings being 113k.  The mean rating count is 5k +/- 9k.  The mean and standard deviation would be better represented on the log of the values (per the graph below)."
   ]
  },
  {
   "cell_type": "code",
   "execution_count": 50,
   "id": "19fabb97-1b69-40c5-bad4-5cbb0b417d55",
   "metadata": {},
   "outputs": [
    {
     "data": {
      "image/png": "[encoded data removed]",
      "text/plain": [
       "<Figure size 960x720 with 1 Axes>"
      ]
     },
     "metadata": {},
     "output_type": "display_data"
    }
   ],
   "source": [
    "plot = sns.histplot(x=df3_counts['rating'], log_scale=True)\n",
    "plot.set(title='Yahoo Music Rating Count Histogram', xlabel='Rating Count');"
   ]
  },
  {
   "cell_type": "markdown",
   "id": "726a3e4b-e831-4550-98cf-e07080f4c2a6",
   "metadata": {},
   "source": [
    "This graph shows that the largest bucket is 1k ratings with a little over 200 items having that many.  It has a steeper trailing edge (vs. the previous ones with had kind of a linear dropoff on the log scale)."
   ]
  },
  {
   "cell_type": "code",
   "execution_count": null,
   "id": "0aa9a7d3-84eb-4208-8535-71779ef784bc",
   "metadata": {},
   "outputs": [],
   "source": []
  }
 ],
 "metadata": {
  "kernelspec": {
   "display_name": "Python 3 (ipykernel)",
   "language": "python",
   "name": "python3"
  },
  "language_info": {
   "codemirror_mode": {
    "name": "ipython",
    "version": 3
   },
   "file_extension": ".py",
   "mimetype": "text/x-python",
   "name": "python",
   "nbconvert_exporter": "python",
   "pygments_lexer": "ipython3",
   "version": "3.12.5"
  }
 },
 "nbformat": 4,
 "nbformat_minor": 5
}
